{
 "cells": [
  {
   "cell_type": "markdown",
   "source": [
    "Тасочка номер один"
   ],
   "metadata": {
    "collapsed": false
   },
   "id": "9dac104f5e2c5da8"
  },
  {
   "cell_type": "code",
   "execution_count": 45,
   "outputs": [
    {
     "data": {
      "text/plain": "{'mean': 3.4285714285714284, 'median': 10, 'mode': 1}"
     },
     "execution_count": 45,
     "metadata": {},
     "output_type": "execute_result"
    }
   ],
   "source": [
    "def mean(a : list) -> float:\n",
    "    return sum(a) / len(a)\n",
    "\n",
    "def median(a : list) -> float:\n",
    "    if len(a) % 2 == 0:\n",
    "         return (a[len(a)//2] + a[len(a)//2 - 1]) / 2\n",
    "    else:\n",
    "        return a[len(a)//2]\n",
    "    \n",
    "def mode(a : list) -> float:\n",
    "    a.sort()\n",
    "    j = 0\n",
    "    maxx = 0\n",
    "    idmax = 0\n",
    "    for i in range(len(a)):\n",
    "        if i < len(a) and a[i] == a[j]:\n",
    "            continue\n",
    "        if maxx < abs(i- j):\n",
    "            idmax = j\n",
    "            maxx = abs(i- j)\n",
    "        j = i\n",
    "    return a[idmax]\n",
    "            \n",
    "            \n",
    "        \n",
    "\n",
    "def func(a : list) -> dict:\n",
    "    return {\"mean\" : mean(a),\n",
    "     \"median\" : median(a), \n",
    "     \"mode\" : mode(a)}\n",
    "\n",
    "a = [0, 1, 1, 10, 5, 4, 3]\n",
    "func(a)"
   ],
   "metadata": {
    "collapsed": false,
    "ExecuteTime": {
     "end_time": "2024-02-05T13:07:52.363483Z",
     "start_time": "2024-02-05T13:07:52.353626Z"
    }
   },
   "id": "47feaaba8c6716ab"
  },
  {
   "cell_type": "markdown",
   "source": [
    "Тасочка номер два"
   ],
   "metadata": {
    "collapsed": false
   },
   "id": "1c99657efc3adafe"
  },
  {
   "cell_type": "code",
   "execution_count": 46,
   "outputs": [
    {
     "data": {
      "text/plain": "8"
     },
     "execution_count": 46,
     "metadata": {},
     "output_type": "execute_result"
    }
   ],
   "source": [
    "with open('../data/dota_hero_stats.csv', 'r') as f :\n",
    "    file_content = f.read()\n",
    "    \n",
    "def parse_csv(file_content: str) -> list[dict]:\n",
    "    rows = file_content.split(\"\\n\")\n",
    "    header = rows[0].split(',')\n",
    "    df = list()\n",
    "    for row in rows[1:]:\n",
    "        row = row.split(\",\")\n",
    "        cur_row = row[:7]\n",
    "        cur_row.append(','.join(row[7:]))\n",
    "        if len(cur_row) < 7:\n",
    "            break\n",
    "        df.append({header[i]: cur_row[i] for i in range(len(header))})\n",
    "    return df\n",
    "        \n",
    "def count_legs(df : list[dict]) -> float:\n",
    "    maxx = -1\n",
    "    for el in df:\n",
    "        maxx = max(maxx, int(el['legs']))\n",
    "    return maxx\n",
    "\n",
    "count_legs(parse_csv(file_content))"
   ],
   "metadata": {
    "collapsed": false,
    "ExecuteTime": {
     "end_time": "2024-02-05T13:07:52.365740Z",
     "start_time": "2024-02-05T13:07:52.359449Z"
    }
   },
   "id": "dea8e85680ebf36b"
  }
 ],
 "metadata": {
  "kernelspec": {
   "display_name": "Python 3",
   "language": "python",
   "name": "python3"
  },
  "language_info": {
   "codemirror_mode": {
    "name": "ipython",
    "version": 2
   },
   "file_extension": ".py",
   "mimetype": "text/x-python",
   "name": "python",
   "nbconvert_exporter": "python",
   "pygments_lexer": "ipython2",
   "version": "2.7.6"
  }
 },
 "nbformat": 4,
 "nbformat_minor": 5
}
