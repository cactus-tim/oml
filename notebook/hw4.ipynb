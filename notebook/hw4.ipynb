{
 "cells": [
  {
   "cell_type": "code",
   "execution_count": 1,
   "id": "initial_id",
   "metadata": {
    "collapsed": true,
    "ExecuteTime": {
     "end_time": "2024-03-23T10:55:18.127575Z",
     "start_time": "2024-03-23T10:55:17.719970Z"
    }
   },
   "outputs": [],
   "source": [
    "import pandas as pd\n",
    "from sklearn.model_selection import train_test_split\n",
    "from sklearn.metrics import r2_score\n",
    "from sklearn.tree import DecisionTreeClassifier\n",
    "from sklearn.model_selection import RandomizedSearchCV\n",
    "from sklearn.ensemble import RandomForestClassifier"
   ]
  },
  {
   "cell_type": "code",
   "outputs": [
    {
     "data": {
      "text/plain": "   year  price  mileage  tax   mpg  engineSize\n0  2017  12500    15735  150  55.4         1.4\n1  2016  16500    36203   20  64.2         2.0\n2  2016  11000    29946   30  55.4         1.4\n3  2017  16800    25952  145  67.3         2.0\n4  2019  17300     1998  145  49.6         1.0",
      "text/html": "<div>\n<style scoped>\n    .dataframe tbody tr th:only-of-type {\n        vertical-align: middle;\n    }\n\n    .dataframe tbody tr th {\n        vertical-align: top;\n    }\n\n    .dataframe thead th {\n        text-align: right;\n    }\n</style>\n<table border=\"1\" class=\"dataframe\">\n  <thead>\n    <tr style=\"text-align: right;\">\n      <th></th>\n      <th>year</th>\n      <th>price</th>\n      <th>mileage</th>\n      <th>tax</th>\n      <th>mpg</th>\n      <th>engineSize</th>\n    </tr>\n  </thead>\n  <tbody>\n    <tr>\n      <th>0</th>\n      <td>2017</td>\n      <td>12500</td>\n      <td>15735</td>\n      <td>150</td>\n      <td>55.4</td>\n      <td>1.4</td>\n    </tr>\n    <tr>\n      <th>1</th>\n      <td>2016</td>\n      <td>16500</td>\n      <td>36203</td>\n      <td>20</td>\n      <td>64.2</td>\n      <td>2.0</td>\n    </tr>\n    <tr>\n      <th>2</th>\n      <td>2016</td>\n      <td>11000</td>\n      <td>29946</td>\n      <td>30</td>\n      <td>55.4</td>\n      <td>1.4</td>\n    </tr>\n    <tr>\n      <th>3</th>\n      <td>2017</td>\n      <td>16800</td>\n      <td>25952</td>\n      <td>145</td>\n      <td>67.3</td>\n      <td>2.0</td>\n    </tr>\n    <tr>\n      <th>4</th>\n      <td>2019</td>\n      <td>17300</td>\n      <td>1998</td>\n      <td>145</td>\n      <td>49.6</td>\n      <td>1.0</td>\n    </tr>\n  </tbody>\n</table>\n</div>"
     },
     "execution_count": 2,
     "metadata": {},
     "output_type": "execute_result"
    }
   ],
   "source": [
    "df = pd.read_csv('archive/audi.csv')\n",
    "df = df.drop(['model', 'transmission', 'fuelType'], axis=1)\n",
    "df.head()"
   ],
   "metadata": {
    "collapsed": false,
    "ExecuteTime": {
     "end_time": "2024-03-23T10:55:18.160214Z",
     "start_time": "2024-03-23T10:55:18.128747Z"
    }
   },
   "id": "26af3afa8bd19e57",
   "execution_count": 2
  },
  {
   "cell_type": "code",
   "outputs": [],
   "source": [
    "x = df.drop(['price'], axis=1)\n",
    "y = df['price']\n",
    "\n",
    "x_train, x_test, y_train, y_test = train_test_split(x, y, test_size=0.2, random_state=42)"
   ],
   "metadata": {
    "collapsed": false,
    "ExecuteTime": {
     "end_time": "2024-03-23T10:55:19.411231Z",
     "start_time": "2024-03-23T10:55:19.401516Z"
    }
   },
   "id": "6a2b6a8279e1292",
   "execution_count": 3
  },
  {
   "cell_type": "code",
   "outputs": [
    {
     "data": {
      "text/plain": "0.8957738817911829"
     },
     "execution_count": 4,
     "metadata": {},
     "output_type": "execute_result"
    }
   ],
   "source": [
    "DT = DecisionTreeClassifier(max_depth=100, max_features=3, random_state=42)\n",
    "DT.fit(x_train, y_train)\n",
    "y_pred = DT.predict(x_test)\n",
    "r2_score(y_test, y_pred)"
   ],
   "metadata": {
    "collapsed": false,
    "ExecuteTime": {
     "end_time": "2024-03-23T10:55:21.316928Z",
     "start_time": "2024-03-23T10:55:20.308365Z"
    }
   },
   "id": "f1073c71b0055711",
   "execution_count": 4
  },
  {
   "cell_type": "markdown",
   "source": [],
   "metadata": {
    "collapsed": false
   },
   "id": "ea66d71c8f959a17"
  },
  {
   "cell_type": "code",
   "outputs": [
    {
     "data": {
      "text/plain": "            model  year  price transmission  mileage fuelType    tax    mpg  \\\n4477         Golf  2015   9500       Manual    44079   Petrol  160.0   44.1   \n13047    Insignia  2015   7899       Manual    49585   Diesel    0.0   76.3   \n8623         Kuga  2017  14290       Manual    23444   Diesel  145.0   64.2   \n9275     1 Series  2015   8290       Manual    35000   Petrol  125.0   51.4   \n2391        Focus  2018  16999       Manual    10983   Petrol    0.0    0.0   \n...           ...   ...    ...          ...      ...      ...    ...    ...   \n7456     3 Series  2016  17500    Automatic    48000    Other    0.0  134.5   \n5919         C-HR  2017  20690    Automatic    18851   Hybrid    0.0   74.3   \n8238    GLE Class  2020  61489    Semi-Auto     1000   Petrol  145.0   29.5   \n1029      C Class  2017  27526    Automatic    15958   Petrol    0.0    0.0   \n3822         Kuga  2017  14997       Manual    15746   Diesel  145.0   64.2   \n\n       engineSize  \n4477          1.4  \n13047         2.0  \n8623          1.5  \n9275          1.6  \n2391          1.0  \n...           ...  \n7456          2.0  \n5919          1.8  \n8238          3.0  \n1029          3.0  \n3822          1.5  \n\n[10000 rows x 9 columns]",
      "text/html": "<div>\n<style scoped>\n    .dataframe tbody tr th:only-of-type {\n        vertical-align: middle;\n    }\n\n    .dataframe tbody tr th {\n        vertical-align: top;\n    }\n\n    .dataframe thead th {\n        text-align: right;\n    }\n</style>\n<table border=\"1\" class=\"dataframe\">\n  <thead>\n    <tr style=\"text-align: right;\">\n      <th></th>\n      <th>model</th>\n      <th>year</th>\n      <th>price</th>\n      <th>transmission</th>\n      <th>mileage</th>\n      <th>fuelType</th>\n      <th>tax</th>\n      <th>mpg</th>\n      <th>engineSize</th>\n    </tr>\n  </thead>\n  <tbody>\n    <tr>\n      <th>4477</th>\n      <td>Golf</td>\n      <td>2015</td>\n      <td>9500</td>\n      <td>Manual</td>\n      <td>44079</td>\n      <td>Petrol</td>\n      <td>160.0</td>\n      <td>44.1</td>\n      <td>1.4</td>\n    </tr>\n    <tr>\n      <th>13047</th>\n      <td>Insignia</td>\n      <td>2015</td>\n      <td>7899</td>\n      <td>Manual</td>\n      <td>49585</td>\n      <td>Diesel</td>\n      <td>0.0</td>\n      <td>76.3</td>\n      <td>2.0</td>\n    </tr>\n    <tr>\n      <th>8623</th>\n      <td>Kuga</td>\n      <td>2017</td>\n      <td>14290</td>\n      <td>Manual</td>\n      <td>23444</td>\n      <td>Diesel</td>\n      <td>145.0</td>\n      <td>64.2</td>\n      <td>1.5</td>\n    </tr>\n    <tr>\n      <th>9275</th>\n      <td>1 Series</td>\n      <td>2015</td>\n      <td>8290</td>\n      <td>Manual</td>\n      <td>35000</td>\n      <td>Petrol</td>\n      <td>125.0</td>\n      <td>51.4</td>\n      <td>1.6</td>\n    </tr>\n    <tr>\n      <th>2391</th>\n      <td>Focus</td>\n      <td>2018</td>\n      <td>16999</td>\n      <td>Manual</td>\n      <td>10983</td>\n      <td>Petrol</td>\n      <td>0.0</td>\n      <td>0.0</td>\n      <td>1.0</td>\n    </tr>\n    <tr>\n      <th>...</th>\n      <td>...</td>\n      <td>...</td>\n      <td>...</td>\n      <td>...</td>\n      <td>...</td>\n      <td>...</td>\n      <td>...</td>\n      <td>...</td>\n      <td>...</td>\n    </tr>\n    <tr>\n      <th>7456</th>\n      <td>3 Series</td>\n      <td>2016</td>\n      <td>17500</td>\n      <td>Automatic</td>\n      <td>48000</td>\n      <td>Other</td>\n      <td>0.0</td>\n      <td>134.5</td>\n      <td>2.0</td>\n    </tr>\n    <tr>\n      <th>5919</th>\n      <td>C-HR</td>\n      <td>2017</td>\n      <td>20690</td>\n      <td>Automatic</td>\n      <td>18851</td>\n      <td>Hybrid</td>\n      <td>0.0</td>\n      <td>74.3</td>\n      <td>1.8</td>\n    </tr>\n    <tr>\n      <th>8238</th>\n      <td>GLE Class</td>\n      <td>2020</td>\n      <td>61489</td>\n      <td>Semi-Auto</td>\n      <td>1000</td>\n      <td>Petrol</td>\n      <td>145.0</td>\n      <td>29.5</td>\n      <td>3.0</td>\n    </tr>\n    <tr>\n      <th>1029</th>\n      <td>C Class</td>\n      <td>2017</td>\n      <td>27526</td>\n      <td>Automatic</td>\n      <td>15958</td>\n      <td>Petrol</td>\n      <td>0.0</td>\n      <td>0.0</td>\n      <td>3.0</td>\n    </tr>\n    <tr>\n      <th>3822</th>\n      <td>Kuga</td>\n      <td>2017</td>\n      <td>14997</td>\n      <td>Manual</td>\n      <td>15746</td>\n      <td>Diesel</td>\n      <td>145.0</td>\n      <td>64.2</td>\n      <td>1.5</td>\n    </tr>\n  </tbody>\n</table>\n<p>10000 rows × 9 columns</p>\n</div>"
     },
     "execution_count": 5,
     "metadata": {},
     "output_type": "execute_result"
    }
   ],
   "source": [
    "df1 = pd.read_csv('archive/audi.csv')\n",
    "df1 = pd.concat([df1, pd.read_csv('archive/bmw.csv')])\n",
    "df1 = pd.concat([df1, pd.read_csv('archive/cclass.csv')])\n",
    "df1 = pd.concat([df1, pd.read_csv('archive/focus.csv')])\n",
    "df1 = pd.concat([df1, pd.read_csv('archive/ford.csv')])\n",
    "df1 = pd.concat([df1, pd.read_csv('archive/hyundi.csv').rename(columns={'tax(£)' : 'tax'})])\n",
    "df1 = pd.concat([df1, pd.read_csv('archive/merc.csv')])\n",
    "df1 = pd.concat([df1, pd.read_csv('archive/skoda.csv')])\n",
    "df1 = pd.concat([df1, pd.read_csv('archive/toyota.csv')])\n",
    "df1 = pd.concat([df1, pd.read_csv('archive/vauxhall.csv')])\n",
    "df1 = pd.concat([df1, pd.read_csv('archive/vw.csv')])\n",
    "df1.fillna(0, inplace=True)\n",
    "df1 = df1.sample(n=10000)\n",
    "df1"
   ],
   "metadata": {
    "collapsed": false,
    "ExecuteTime": {
     "end_time": "2024-03-23T10:55:23.139915Z",
     "start_time": "2024-03-23T10:55:23.007474Z"
    }
   },
   "id": "38af868cb81dbf73",
   "execution_count": 5
  },
  {
   "cell_type": "code",
   "outputs": [],
   "source": [
    "x = df1.drop(['price'], axis=1)\n",
    "y = df1['price']\n",
    "\n",
    "x_train, x_test, y_train, y_test = train_test_split(x, y, test_size=0.2, random_state=42)\n",
    "\n",
    "x_train = pd.get_dummies(x_train)\n",
    "x_test = pd.get_dummies(x_test)"
   ],
   "metadata": {
    "collapsed": false,
    "ExecuteTime": {
     "end_time": "2024-03-23T10:55:26.430424Z",
     "start_time": "2024-03-23T10:55:26.404621Z"
    }
   },
   "id": "355170b910ae9be0",
   "execution_count": 6
  },
  {
   "cell_type": "code",
   "outputs": [
    {
     "name": "stderr",
     "output_type": "stream",
     "text": [
      "/Users/timofejsosnin/anaconda3/envs/classical-ml/lib/python3.11/site-packages/sklearn/model_selection/_split.py:737: UserWarning: The least populated class in y has only 1 members, which is less than n_splits=5.\n",
      "  warnings.warn(\n",
      "/Users/timofejsosnin/anaconda3/envs/classical-ml/lib/python3.11/site-packages/sklearn/model_selection/_validation.py:542: FitFailedWarning: \n",
      "10 fits failed out of a total of 50.\n",
      "The score on these train-test partitions for these parameters will be set to nan.\n",
      "If these failures are not expected, you can try to debug them by setting error_score='raise'.\n",
      "\n",
      "Below are more details about the failures:\n",
      "--------------------------------------------------------------------------------\n",
      "10 fits failed with the following error:\n",
      "Traceback (most recent call last):\n",
      "  File \"/Users/timofejsosnin/anaconda3/envs/classical-ml/lib/python3.11/site-packages/sklearn/model_selection/_validation.py\", line 890, in _fit_and_score\n",
      "    estimator.fit(X_train, y_train, **fit_params)\n",
      "  File \"/Users/timofejsosnin/anaconda3/envs/classical-ml/lib/python3.11/site-packages/sklearn/base.py\", line 1344, in wrapper\n",
      "    estimator._validate_params()\n",
      "  File \"/Users/timofejsosnin/anaconda3/envs/classical-ml/lib/python3.11/site-packages/sklearn/base.py\", line 666, in _validate_params\n",
      "    validate_parameter_constraints(\n",
      "  File \"/Users/timofejsosnin/anaconda3/envs/classical-ml/lib/python3.11/site-packages/sklearn/utils/_param_validation.py\", line 95, in validate_parameter_constraints\n",
      "    raise InvalidParameterError(\n",
      "sklearn.utils._param_validation.InvalidParameterError: The 'max_features' parameter of DecisionTreeClassifier must be an int in the range [1, inf), a float in the range (0.0, 1.0], a str among {'log2', 'sqrt'} or None. Got 'auto' instead.\n",
      "\n",
      "  warnings.warn(some_fits_failed_message, FitFailedWarning)\n",
      "/Users/timofejsosnin/anaconda3/envs/classical-ml/lib/python3.11/site-packages/sklearn/model_selection/_search.py:1051: UserWarning: One or more of the test scores are non-finite: [0.01775  0.014125 0.01125  0.014375      nan 0.01          nan 0.009875\n",
      " 0.01925  0.012375]\n",
      "  warnings.warn(\n"
     ]
    },
    {
     "ename": "ValueError",
     "evalue": "The feature names should match those that were passed during fit.\nFeature names unseen at fit time:\n- model_ A2\n- model_ Fusion\n- model_ M5\n- model_ R8\nFeature names seen at fit time, yet now missing:\n- model_ 8 Series\n- model_ California\n- model_ Caravelle\n- model_ Eos\n- model_ G Class\n- ...\n",
     "output_type": "error",
     "traceback": [
      "\u001B[0;31m---------------------------------------------------------------------------\u001B[0m",
      "\u001B[0;31mValueError\u001B[0m                                Traceback (most recent call last)",
      "Cell \u001B[0;32mIn[7], line 22\u001B[0m\n\u001B[1;32m     20\u001B[0m m \u001B[38;5;241m=\u001B[39m RandomizedSearchCV(model, params[name], random_state\u001B[38;5;241m=\u001B[39m\u001B[38;5;241m42\u001B[39m)\n\u001B[1;32m     21\u001B[0m m\u001B[38;5;241m.\u001B[39mfit(x_train, y_train)\n\u001B[0;32m---> 22\u001B[0m \u001B[43mm\u001B[49m\u001B[38;5;241;43m.\u001B[39;49m\u001B[43mpredict\u001B[49m\u001B[43m(\u001B[49m\u001B[43mx_test\u001B[49m\u001B[43m)\u001B[49m\n\u001B[1;32m     23\u001B[0m \u001B[38;5;28mprint\u001B[39m(name, m\u001B[38;5;241m.\u001B[39mbest_params_, m\u001B[38;5;241m.\u001B[39mbest_score_)\n\u001B[1;32m     24\u001B[0m \u001B[38;5;28mprint\u001B[39m(\u001B[38;5;124m'\u001B[39m\u001B[38;5;124mr2\u001B[39m\u001B[38;5;124m'\u001B[39m, r2_score(y_test, y_pred))\n",
      "File \u001B[0;32m~/anaconda3/envs/classical-ml/lib/python3.11/site-packages/sklearn/model_selection/_search.py:546\u001B[0m, in \u001B[0;36mBaseSearchCV.predict\u001B[0;34m(self, X)\u001B[0m\n\u001B[1;32m    528\u001B[0m \u001B[38;5;250m\u001B[39m\u001B[38;5;124;03m\"\"\"Call predict on the estimator with the best found parameters.\u001B[39;00m\n\u001B[1;32m    529\u001B[0m \n\u001B[1;32m    530\u001B[0m \u001B[38;5;124;03mOnly available if ``refit=True`` and the underlying estimator supports\u001B[39;00m\n\u001B[0;32m   (...)\u001B[0m\n\u001B[1;32m    543\u001B[0m \u001B[38;5;124;03m    the best found parameters.\u001B[39;00m\n\u001B[1;32m    544\u001B[0m \u001B[38;5;124;03m\"\"\"\u001B[39;00m\n\u001B[1;32m    545\u001B[0m check_is_fitted(\u001B[38;5;28mself\u001B[39m)\n\u001B[0;32m--> 546\u001B[0m \u001B[38;5;28;01mreturn\u001B[39;00m \u001B[38;5;28;43mself\u001B[39;49m\u001B[38;5;241;43m.\u001B[39;49m\u001B[43mbest_estimator_\u001B[49m\u001B[38;5;241;43m.\u001B[39;49m\u001B[43mpredict\u001B[49m\u001B[43m(\u001B[49m\u001B[43mX\u001B[49m\u001B[43m)\u001B[49m\n",
      "File \u001B[0;32m~/anaconda3/envs/classical-ml/lib/python3.11/site-packages/sklearn/tree/_classes.py:529\u001B[0m, in \u001B[0;36mBaseDecisionTree.predict\u001B[0;34m(self, X, check_input)\u001B[0m\n\u001B[1;32m    506\u001B[0m \u001B[38;5;250m\u001B[39m\u001B[38;5;124;03m\"\"\"Predict class or regression value for X.\u001B[39;00m\n\u001B[1;32m    507\u001B[0m \n\u001B[1;32m    508\u001B[0m \u001B[38;5;124;03mFor a classification model, the predicted class for each sample in X is\u001B[39;00m\n\u001B[0;32m   (...)\u001B[0m\n\u001B[1;32m    526\u001B[0m \u001B[38;5;124;03m    The predicted classes, or the predict values.\u001B[39;00m\n\u001B[1;32m    527\u001B[0m \u001B[38;5;124;03m\"\"\"\u001B[39;00m\n\u001B[1;32m    528\u001B[0m check_is_fitted(\u001B[38;5;28mself\u001B[39m)\n\u001B[0;32m--> 529\u001B[0m X \u001B[38;5;241m=\u001B[39m \u001B[38;5;28;43mself\u001B[39;49m\u001B[38;5;241;43m.\u001B[39;49m\u001B[43m_validate_X_predict\u001B[49m\u001B[43m(\u001B[49m\u001B[43mX\u001B[49m\u001B[43m,\u001B[49m\u001B[43m \u001B[49m\u001B[43mcheck_input\u001B[49m\u001B[43m)\u001B[49m\n\u001B[1;32m    530\u001B[0m proba \u001B[38;5;241m=\u001B[39m \u001B[38;5;28mself\u001B[39m\u001B[38;5;241m.\u001B[39mtree_\u001B[38;5;241m.\u001B[39mpredict(X)\n\u001B[1;32m    531\u001B[0m n_samples \u001B[38;5;241m=\u001B[39m X\u001B[38;5;241m.\u001B[39mshape[\u001B[38;5;241m0\u001B[39m]\n",
      "File \u001B[0;32m~/anaconda3/envs/classical-ml/lib/python3.11/site-packages/sklearn/tree/_classes.py:489\u001B[0m, in \u001B[0;36mBaseDecisionTree._validate_X_predict\u001B[0;34m(self, X, check_input)\u001B[0m\n\u001B[1;32m    487\u001B[0m \u001B[38;5;28;01melse\u001B[39;00m:\n\u001B[1;32m    488\u001B[0m     force_all_finite \u001B[38;5;241m=\u001B[39m \u001B[38;5;28;01mTrue\u001B[39;00m\n\u001B[0;32m--> 489\u001B[0m X \u001B[38;5;241m=\u001B[39m \u001B[38;5;28;43mself\u001B[39;49m\u001B[38;5;241;43m.\u001B[39;49m\u001B[43m_validate_data\u001B[49m\u001B[43m(\u001B[49m\n\u001B[1;32m    490\u001B[0m \u001B[43m    \u001B[49m\u001B[43mX\u001B[49m\u001B[43m,\u001B[49m\n\u001B[1;32m    491\u001B[0m \u001B[43m    \u001B[49m\u001B[43mdtype\u001B[49m\u001B[38;5;241;43m=\u001B[39;49m\u001B[43mDTYPE\u001B[49m\u001B[43m,\u001B[49m\n\u001B[1;32m    492\u001B[0m \u001B[43m    \u001B[49m\u001B[43maccept_sparse\u001B[49m\u001B[38;5;241;43m=\u001B[39;49m\u001B[38;5;124;43m\"\u001B[39;49m\u001B[38;5;124;43mcsr\u001B[39;49m\u001B[38;5;124;43m\"\u001B[39;49m\u001B[43m,\u001B[49m\n\u001B[1;32m    493\u001B[0m \u001B[43m    \u001B[49m\u001B[43mreset\u001B[49m\u001B[38;5;241;43m=\u001B[39;49m\u001B[38;5;28;43;01mFalse\u001B[39;49;00m\u001B[43m,\u001B[49m\n\u001B[1;32m    494\u001B[0m \u001B[43m    \u001B[49m\u001B[43mforce_all_finite\u001B[49m\u001B[38;5;241;43m=\u001B[39;49m\u001B[43mforce_all_finite\u001B[49m\u001B[43m,\u001B[49m\n\u001B[1;32m    495\u001B[0m \u001B[43m\u001B[49m\u001B[43m)\u001B[49m\n\u001B[1;32m    496\u001B[0m \u001B[38;5;28;01mif\u001B[39;00m issparse(X) \u001B[38;5;129;01mand\u001B[39;00m (\n\u001B[1;32m    497\u001B[0m     X\u001B[38;5;241m.\u001B[39mindices\u001B[38;5;241m.\u001B[39mdtype \u001B[38;5;241m!=\u001B[39m np\u001B[38;5;241m.\u001B[39mintc \u001B[38;5;129;01mor\u001B[39;00m X\u001B[38;5;241m.\u001B[39mindptr\u001B[38;5;241m.\u001B[39mdtype \u001B[38;5;241m!=\u001B[39m np\u001B[38;5;241m.\u001B[39mintc\n\u001B[1;32m    498\u001B[0m ):\n\u001B[1;32m    499\u001B[0m     \u001B[38;5;28;01mraise\u001B[39;00m \u001B[38;5;167;01mValueError\u001B[39;00m(\u001B[38;5;124m\"\u001B[39m\u001B[38;5;124mNo support for np.int64 index based sparse matrices\u001B[39m\u001B[38;5;124m\"\u001B[39m)\n",
      "File \u001B[0;32m~/anaconda3/envs/classical-ml/lib/python3.11/site-packages/sklearn/base.py:608\u001B[0m, in \u001B[0;36mBaseEstimator._validate_data\u001B[0;34m(self, X, y, reset, validate_separately, cast_to_ndarray, **check_params)\u001B[0m\n\u001B[1;32m    537\u001B[0m \u001B[38;5;28;01mdef\u001B[39;00m \u001B[38;5;21m_validate_data\u001B[39m(\n\u001B[1;32m    538\u001B[0m     \u001B[38;5;28mself\u001B[39m,\n\u001B[1;32m    539\u001B[0m     X\u001B[38;5;241m=\u001B[39m\u001B[38;5;124m\"\u001B[39m\u001B[38;5;124mno_validation\u001B[39m\u001B[38;5;124m\"\u001B[39m,\n\u001B[0;32m   (...)\u001B[0m\n\u001B[1;32m    544\u001B[0m     \u001B[38;5;241m*\u001B[39m\u001B[38;5;241m*\u001B[39mcheck_params,\n\u001B[1;32m    545\u001B[0m ):\n\u001B[1;32m    546\u001B[0m \u001B[38;5;250m    \u001B[39m\u001B[38;5;124;03m\"\"\"Validate input data and set or check the `n_features_in_` attribute.\u001B[39;00m\n\u001B[1;32m    547\u001B[0m \n\u001B[1;32m    548\u001B[0m \u001B[38;5;124;03m    Parameters\u001B[39;00m\n\u001B[0;32m   (...)\u001B[0m\n\u001B[1;32m    606\u001B[0m \u001B[38;5;124;03m        validated.\u001B[39;00m\n\u001B[1;32m    607\u001B[0m \u001B[38;5;124;03m    \"\"\"\u001B[39;00m\n\u001B[0;32m--> 608\u001B[0m     \u001B[38;5;28;43mself\u001B[39;49m\u001B[38;5;241;43m.\u001B[39;49m\u001B[43m_check_feature_names\u001B[49m\u001B[43m(\u001B[49m\u001B[43mX\u001B[49m\u001B[43m,\u001B[49m\u001B[43m \u001B[49m\u001B[43mreset\u001B[49m\u001B[38;5;241;43m=\u001B[39;49m\u001B[43mreset\u001B[49m\u001B[43m)\u001B[49m\n\u001B[1;32m    610\u001B[0m     \u001B[38;5;28;01mif\u001B[39;00m y \u001B[38;5;129;01mis\u001B[39;00m \u001B[38;5;28;01mNone\u001B[39;00m \u001B[38;5;129;01mand\u001B[39;00m \u001B[38;5;28mself\u001B[39m\u001B[38;5;241m.\u001B[39m_get_tags()[\u001B[38;5;124m\"\u001B[39m\u001B[38;5;124mrequires_y\u001B[39m\u001B[38;5;124m\"\u001B[39m]:\n\u001B[1;32m    611\u001B[0m         \u001B[38;5;28;01mraise\u001B[39;00m \u001B[38;5;167;01mValueError\u001B[39;00m(\n\u001B[1;32m    612\u001B[0m             \u001B[38;5;124mf\u001B[39m\u001B[38;5;124m\"\u001B[39m\u001B[38;5;124mThis \u001B[39m\u001B[38;5;132;01m{\u001B[39;00m\u001B[38;5;28mself\u001B[39m\u001B[38;5;241m.\u001B[39m\u001B[38;5;18m__class__\u001B[39m\u001B[38;5;241m.\u001B[39m\u001B[38;5;18m__name__\u001B[39m\u001B[38;5;132;01m}\u001B[39;00m\u001B[38;5;124m estimator \u001B[39m\u001B[38;5;124m\"\u001B[39m\n\u001B[1;32m    613\u001B[0m             \u001B[38;5;124m\"\u001B[39m\u001B[38;5;124mrequires y to be passed, but the target y is None.\u001B[39m\u001B[38;5;124m\"\u001B[39m\n\u001B[1;32m    614\u001B[0m         )\n",
      "File \u001B[0;32m~/anaconda3/envs/classical-ml/lib/python3.11/site-packages/sklearn/base.py:535\u001B[0m, in \u001B[0;36mBaseEstimator._check_feature_names\u001B[0;34m(self, X, reset)\u001B[0m\n\u001B[1;32m    530\u001B[0m \u001B[38;5;28;01mif\u001B[39;00m \u001B[38;5;129;01mnot\u001B[39;00m missing_names \u001B[38;5;129;01mand\u001B[39;00m \u001B[38;5;129;01mnot\u001B[39;00m unexpected_names:\n\u001B[1;32m    531\u001B[0m     message \u001B[38;5;241m+\u001B[39m\u001B[38;5;241m=\u001B[39m (\n\u001B[1;32m    532\u001B[0m         \u001B[38;5;124m\"\u001B[39m\u001B[38;5;124mFeature names must be in the same order as they were in fit.\u001B[39m\u001B[38;5;130;01m\\n\u001B[39;00m\u001B[38;5;124m\"\u001B[39m\n\u001B[1;32m    533\u001B[0m     )\n\u001B[0;32m--> 535\u001B[0m \u001B[38;5;28;01mraise\u001B[39;00m \u001B[38;5;167;01mValueError\u001B[39;00m(message)\n",
      "\u001B[0;31mValueError\u001B[0m: The feature names should match those that were passed during fit.\nFeature names unseen at fit time:\n- model_ A2\n- model_ Fusion\n- model_ M5\n- model_ R8\nFeature names seen at fit time, yet now missing:\n- model_ 8 Series\n- model_ California\n- model_ Caravelle\n- model_ Eos\n- model_ G Class\n- ...\n"
     ]
    }
   ],
   "source": [
    "estimators = {\n",
    "    'DT': DecisionTreeClassifier(),\n",
    "    'RF': RandomForestClassifier()\n",
    "}\n",
    "\n",
    "params = {\n",
    "    'DT': {\n",
    "        'max_depth': [10, 20, 30, 40, 50],\n",
    "        'max_features': [10, 100, 200],\n",
    "        'min_samples_split': [2, 5, 10, 20],\n",
    "        'criterion': ['gini', 'entropy']\n",
    "}, \n",
    "    'RF': {\n",
    "        'n_estimators': [100, 500],\n",
    "        'criterion': ['gini', 'entropy'],\n",
    "        'max_depth': [5, 100, 150]\n",
    "}}\n",
    "\n",
    "for name, model in estimators.items():\n",
    "    m = RandomizedSearchCV(model, params[name], random_state=42)\n",
    "    m.fit(x_train, y_train)\n",
    "    m.predict(x_test)\n",
    "    print(name, m.best_params_, m.best_score_)\n",
    "    print('r2', r2_score(y_test, y_pred))"
   ],
   "metadata": {
    "collapsed": false,
    "ExecuteTime": {
     "end_time": "2024-03-23T10:55:35.396356Z",
     "start_time": "2024-03-23T10:55:28.482195Z"
    }
   },
   "id": "52ae54466f924653",
   "execution_count": 7
  }
 ],
 "metadata": {
  "kernelspec": {
   "display_name": "Python 3",
   "language": "python",
   "name": "python3"
  },
  "language_info": {
   "codemirror_mode": {
    "name": "ipython",
    "version": 2
   },
   "file_extension": ".py",
   "mimetype": "text/x-python",
   "name": "python",
   "nbconvert_exporter": "python",
   "pygments_lexer": "ipython2",
   "version": "2.7.6"
  }
 },
 "nbformat": 4,
 "nbformat_minor": 5
}
