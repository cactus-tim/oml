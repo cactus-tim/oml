{
 "cells": [
  {
   "cell_type": "code",
   "execution_count": 2,
   "id": "initial_id",
   "metadata": {
    "collapsed": true,
    "ExecuteTime": {
     "end_time": "2024-03-23T10:38:44.420643Z",
     "start_time": "2024-03-23T10:38:44.401857Z"
    }
   },
   "outputs": [],
   "source": [
    "import pandas as pd\n",
    "from sklearn.metrics import r2_score\n",
    "from sklearn.tree import DecisionTreeClassifier\n",
    "import matplotlib.pyplot as plt\n",
    "from sklearn.metrics import accuracy_score, confusion_matrix, f1_score, recall_score\n",
    "from sklearn.model_selection import train_test_split\n",
    "import seaborn as sns\n",
    "from sklearn.linear_model import LogisticRegression\n",
    "from sklearn.naive_bayes import GaussianNB\n",
    "from sklearn.neighbors import KNeighborsClassifier\n",
    "from sklearn.preprocessing import StandardScaler\n",
    "from sklearn.svm import SVC\n",
    "from tqdm import tqdm\n",
    "from sklearn.linear_model import LogisticRegression\n",
    "from sklearn.neighbors import KNeighborsClassifier\n",
    "from sklearn.naive_bayes import GaussianNB\n",
    "from sklearn.svm import SVC"
   ]
  },
  {
   "cell_type": "code",
   "outputs": [
    {
     "data": {
      "text/plain": "   year  price  mileage  tax   mpg  engineSize\n0  2017  12500    15735  150  55.4         1.4\n1  2016  16500    36203   20  64.2         2.0\n2  2016  11000    29946   30  55.4         1.4\n3  2017  16800    25952  145  67.3         2.0\n4  2019  17300     1998  145  49.6         1.0",
      "text/html": "<div>\n<style scoped>\n    .dataframe tbody tr th:only-of-type {\n        vertical-align: middle;\n    }\n\n    .dataframe tbody tr th {\n        vertical-align: top;\n    }\n\n    .dataframe thead th {\n        text-align: right;\n    }\n</style>\n<table border=\"1\" class=\"dataframe\">\n  <thead>\n    <tr style=\"text-align: right;\">\n      <th></th>\n      <th>year</th>\n      <th>price</th>\n      <th>mileage</th>\n      <th>tax</th>\n      <th>mpg</th>\n      <th>engineSize</th>\n    </tr>\n  </thead>\n  <tbody>\n    <tr>\n      <th>0</th>\n      <td>2017</td>\n      <td>12500</td>\n      <td>15735</td>\n      <td>150</td>\n      <td>55.4</td>\n      <td>1.4</td>\n    </tr>\n    <tr>\n      <th>1</th>\n      <td>2016</td>\n      <td>16500</td>\n      <td>36203</td>\n      <td>20</td>\n      <td>64.2</td>\n      <td>2.0</td>\n    </tr>\n    <tr>\n      <th>2</th>\n      <td>2016</td>\n      <td>11000</td>\n      <td>29946</td>\n      <td>30</td>\n      <td>55.4</td>\n      <td>1.4</td>\n    </tr>\n    <tr>\n      <th>3</th>\n      <td>2017</td>\n      <td>16800</td>\n      <td>25952</td>\n      <td>145</td>\n      <td>67.3</td>\n      <td>2.0</td>\n    </tr>\n    <tr>\n      <th>4</th>\n      <td>2019</td>\n      <td>17300</td>\n      <td>1998</td>\n      <td>145</td>\n      <td>49.6</td>\n      <td>1.0</td>\n    </tr>\n  </tbody>\n</table>\n</div>"
     },
     "execution_count": 3,
     "metadata": {},
     "output_type": "execute_result"
    }
   ],
   "source": [
    "df = pd.read_csv('archive/audi.csv')\n",
    "df = df.drop(['model', 'transmission', 'fuelType'], axis=1)\n",
    "df.head()"
   ],
   "metadata": {
    "collapsed": false,
    "ExecuteTime": {
     "end_time": "2024-03-22T23:42:22.913522Z",
     "start_time": "2024-03-22T23:42:22.882849Z"
    }
   },
   "id": "26af3afa8bd19e57",
   "execution_count": 3
  },
  {
   "cell_type": "code",
   "outputs": [],
   "source": [
    "x = df.drop(['price'], axis=1)\n",
    "y = df['price']\n",
    "\n",
    "x_train, x_test, y_train, y_test = train_test_split(x, y, test_size=0.2, random_state=42)"
   ],
   "metadata": {
    "collapsed": false,
    "ExecuteTime": {
     "end_time": "2024-03-22T23:42:24.024649Z",
     "start_time": "2024-03-22T23:42:24.014832Z"
    }
   },
   "id": "6a2b6a8279e1292",
   "execution_count": 4
  },
  {
   "cell_type": "code",
   "outputs": [
    {
     "data": {
      "text/plain": "0.8957738817911829"
     },
     "execution_count": 7,
     "metadata": {},
     "output_type": "execute_result"
    }
   ],
   "source": [
    "from sklearn.metrics import r2_score\n",
    "from sklearn.tree import DecisionTreeClassifier\n",
    "\n",
    "DT = DecisionTreeClassifier(max_depth=100, max_features=3, random_state=42)\n",
    "DT.fit(x_train, y_train)\n",
    "y_pred = DT.predict(x_test)\n",
    "r2_score(y_test, y_pred)"
   ],
   "metadata": {
    "collapsed": false,
    "ExecuteTime": {
     "end_time": "2024-03-22T23:42:38.577834Z",
     "start_time": "2024-03-22T23:42:37.965423Z"
    }
   },
   "id": "f1073c71b0055711",
   "execution_count": 7
  },
  {
   "cell_type": "markdown",
   "source": [],
   "metadata": {
    "collapsed": false
   },
   "id": "ea66d71c8f959a17"
  },
  {
   "cell_type": "code",
   "outputs": [
    {
     "data": {
      "text/plain": "           model  year  price transmission  mileage fuelType    tax   mpg  \\\n2562       Corsa  2015   4750       Manual    81826   Petrol  125.0  52.3   \n206      C Class  2017  20998    Semi-Auto    16902   Diesel  145.0  60.1   \n7800     A Class  2017  14124       Manual    19573   Petrol  125.0  52.3   \n2754        Golf  2019  29150    Semi-Auto      745   Petrol  145.0  32.8   \n3473    3 Series  2019  25900    Semi-Auto     8010   Petrol  145.0  45.6   \n...          ...   ...    ...          ...      ...      ...    ...   ...   \n8529     Mokka X  2018  11707       Manual    18205   Petrol  145.0  39.2   \n3345       Auris  2016  15780    Automatic    19149   Hybrid    0.0  72.4   \n7202   GLA Class  2018  19399       Manual    12471   Diesel  145.0  64.2   \n840        Yaris  2017   8298       Manual    23317   Petrol   30.0  58.0   \n4030       Focus  2017   9995       Manual    34040   Diesel    0.0   0.0   \n\n      engineSize  \n2562         1.2  \n206          2.1  \n7800         1.6  \n2754         2.0  \n3473         2.0  \n...          ...  \n8529         1.4  \n3345         1.8  \n7202         2.1  \n840          1.3  \n4030         1.5  \n\n[10000 rows x 9 columns]",
      "text/html": "<div>\n<style scoped>\n    .dataframe tbody tr th:only-of-type {\n        vertical-align: middle;\n    }\n\n    .dataframe tbody tr th {\n        vertical-align: top;\n    }\n\n    .dataframe thead th {\n        text-align: right;\n    }\n</style>\n<table border=\"1\" class=\"dataframe\">\n  <thead>\n    <tr style=\"text-align: right;\">\n      <th></th>\n      <th>model</th>\n      <th>year</th>\n      <th>price</th>\n      <th>transmission</th>\n      <th>mileage</th>\n      <th>fuelType</th>\n      <th>tax</th>\n      <th>mpg</th>\n      <th>engineSize</th>\n    </tr>\n  </thead>\n  <tbody>\n    <tr>\n      <th>2562</th>\n      <td>Corsa</td>\n      <td>2015</td>\n      <td>4750</td>\n      <td>Manual</td>\n      <td>81826</td>\n      <td>Petrol</td>\n      <td>125.0</td>\n      <td>52.3</td>\n      <td>1.2</td>\n    </tr>\n    <tr>\n      <th>206</th>\n      <td>C Class</td>\n      <td>2017</td>\n      <td>20998</td>\n      <td>Semi-Auto</td>\n      <td>16902</td>\n      <td>Diesel</td>\n      <td>145.0</td>\n      <td>60.1</td>\n      <td>2.1</td>\n    </tr>\n    <tr>\n      <th>7800</th>\n      <td>A Class</td>\n      <td>2017</td>\n      <td>14124</td>\n      <td>Manual</td>\n      <td>19573</td>\n      <td>Petrol</td>\n      <td>125.0</td>\n      <td>52.3</td>\n      <td>1.6</td>\n    </tr>\n    <tr>\n      <th>2754</th>\n      <td>Golf</td>\n      <td>2019</td>\n      <td>29150</td>\n      <td>Semi-Auto</td>\n      <td>745</td>\n      <td>Petrol</td>\n      <td>145.0</td>\n      <td>32.8</td>\n      <td>2.0</td>\n    </tr>\n    <tr>\n      <th>3473</th>\n      <td>3 Series</td>\n      <td>2019</td>\n      <td>25900</td>\n      <td>Semi-Auto</td>\n      <td>8010</td>\n      <td>Petrol</td>\n      <td>145.0</td>\n      <td>45.6</td>\n      <td>2.0</td>\n    </tr>\n    <tr>\n      <th>...</th>\n      <td>...</td>\n      <td>...</td>\n      <td>...</td>\n      <td>...</td>\n      <td>...</td>\n      <td>...</td>\n      <td>...</td>\n      <td>...</td>\n      <td>...</td>\n    </tr>\n    <tr>\n      <th>8529</th>\n      <td>Mokka X</td>\n      <td>2018</td>\n      <td>11707</td>\n      <td>Manual</td>\n      <td>18205</td>\n      <td>Petrol</td>\n      <td>145.0</td>\n      <td>39.2</td>\n      <td>1.4</td>\n    </tr>\n    <tr>\n      <th>3345</th>\n      <td>Auris</td>\n      <td>2016</td>\n      <td>15780</td>\n      <td>Automatic</td>\n      <td>19149</td>\n      <td>Hybrid</td>\n      <td>0.0</td>\n      <td>72.4</td>\n      <td>1.8</td>\n    </tr>\n    <tr>\n      <th>7202</th>\n      <td>GLA Class</td>\n      <td>2018</td>\n      <td>19399</td>\n      <td>Manual</td>\n      <td>12471</td>\n      <td>Diesel</td>\n      <td>145.0</td>\n      <td>64.2</td>\n      <td>2.1</td>\n    </tr>\n    <tr>\n      <th>840</th>\n      <td>Yaris</td>\n      <td>2017</td>\n      <td>8298</td>\n      <td>Manual</td>\n      <td>23317</td>\n      <td>Petrol</td>\n      <td>30.0</td>\n      <td>58.0</td>\n      <td>1.3</td>\n    </tr>\n    <tr>\n      <th>4030</th>\n      <td>Focus</td>\n      <td>2017</td>\n      <td>9995</td>\n      <td>Manual</td>\n      <td>34040</td>\n      <td>Diesel</td>\n      <td>0.0</td>\n      <td>0.0</td>\n      <td>1.5</td>\n    </tr>\n  </tbody>\n</table>\n<p>10000 rows × 9 columns</p>\n</div>"
     },
     "execution_count": 3,
     "metadata": {},
     "output_type": "execute_result"
    }
   ],
   "source": [
    "df1 = pd.read_csv('archive/audi.csv')\n",
    "df1 = pd.concat([df1, pd.read_csv('archive/bmw.csv')])\n",
    "df1 = pd.concat([df1, pd.read_csv('archive/cclass.csv')])\n",
    "df1 = pd.concat([df1, pd.read_csv('archive/focus.csv')])\n",
    "df1 = pd.concat([df1, pd.read_csv('archive/ford.csv')])\n",
    "df1 = pd.concat([df1, pd.read_csv('archive/hyundi.csv').rename(columns={'tax(£)' : 'tax'})])\n",
    "df1 = pd.concat([df1, pd.read_csv('archive/merc.csv')])\n",
    "df1 = pd.concat([df1, pd.read_csv('archive/skoda.csv')])\n",
    "df1 = pd.concat([df1, pd.read_csv('archive/toyota.csv')])\n",
    "df1 = pd.concat([df1, pd.read_csv('archive/vauxhall.csv')])\n",
    "df1 = pd.concat([df1, pd.read_csv('archive/vw.csv')])\n",
    "df1.fillna(0, inplace=True)\n",
    "df1 = df1.sample(n=10000)\n",
    "df1"
   ],
   "metadata": {
    "collapsed": false,
    "ExecuteTime": {
     "end_time": "2024-03-23T10:38:46.780242Z",
     "start_time": "2024-03-23T10:38:46.568554Z"
    }
   },
   "id": "38af868cb81dbf73",
   "execution_count": 3
  },
  {
   "cell_type": "code",
   "outputs": [],
   "source": [
    "x = df1.drop(['price'], axis=1)\n",
    "y = df1['price']\n",
    "\n",
    "x_train, x_test, y_train, y_test = train_test_split(x, y, test_size=0.2, random_state=42)\n",
    "\n",
    "x_train = pd.get_dummies(x_train)\n",
    "x_test = pd.get_dummies(x_test)"
   ],
   "metadata": {
    "collapsed": false,
    "ExecuteTime": {
     "end_time": "2024-03-23T10:38:49.763386Z",
     "start_time": "2024-03-23T10:38:49.727868Z"
    }
   },
   "id": "355170b910ae9be0",
   "execution_count": 4
  },
  {
   "cell_type": "code",
   "outputs": [],
   "source": [
    "from sklearn.model_selection import RandomizedSearchCV\n",
    "from sklearn.ensemble import RandomForestClassifier\n",
    "\n",
    "estimators = {\n",
    "    'DT': DecisionTreeClassifier(),\n",
    "    'RF': RandomForestClassifier()\n",
    "}\n",
    "\n",
    "params = {\n",
    "    'DT': {\n",
    "        'max_depth': [10, 20, 30, 40, 50],\n",
    "        'max_features': ['auto', 'sqrt', 'log2'],\n",
    "        'min_samples_split': [2, 5, 10, 20],\n",
    "        'criterion': ['gini', 'entropy']\n",
    "}, \n",
    "    'RF': {\n",
    "        'n_estimators': [100, 500],\n",
    "        'criterion': ['gini', 'entropy'],\n",
    "        'max_depth': [5, 100, 150]\n",
    "}}\n",
    "\n",
    "for name, model in estimators.items():\n",
    "    m = RandomizedSearchCV(model, params[name], random_state=42)\n",
    "    m.fit(x_train, y_train)\n",
    "    m.predict(x_test)\n",
    "    print(name, m.best_params_, m.best_score_)\n",
    "    print('r2', r2_score(y_test, y_pred))"
   ],
   "metadata": {
    "collapsed": false,
    "is_executing": true
   },
   "id": "52ae54466f924653",
   "execution_count": null
  }
 ],
 "metadata": {
  "kernelspec": {
   "display_name": "Python 3",
   "language": "python",
   "name": "python3"
  },
  "language_info": {
   "codemirror_mode": {
    "name": "ipython",
    "version": 2
   },
   "file_extension": ".py",
   "mimetype": "text/x-python",
   "name": "python",
   "nbconvert_exporter": "python",
   "pygments_lexer": "ipython2",
   "version": "2.7.6"
  }
 },
 "nbformat": 4,
 "nbformat_minor": 5
}
