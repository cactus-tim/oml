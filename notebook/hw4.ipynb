{
 "cells": [
  {
   "cell_type": "code",
   "execution_count": 6,
   "id": "initial_id",
   "metadata": {
    "collapsed": true,
    "ExecuteTime": {
     "end_time": "2024-03-23T13:09:00.241222Z",
     "start_time": "2024-03-23T13:09:00.233452Z"
    }
   },
   "outputs": [],
   "source": [
    "import pandas as pd\n",
    "from sklearn.model_selection import train_test_split\n",
    "from sklearn.metrics import r2_score\n",
    "from sklearn.tree import DecisionTreeClassifier\n",
    "from sklearn.model_selection import RandomizedSearchCV\n",
    "from sklearn.ensemble import RandomForestClassifier"
   ]
  },
  {
   "cell_type": "code",
   "outputs": [
    {
     "data": {
      "text/plain": "   year  price  mileage  tax   mpg  engineSize\n0  2017  12500    15735  150  55.4         1.4\n1  2016  16500    36203   20  64.2         2.0\n2  2016  11000    29946   30  55.4         1.4\n3  2017  16800    25952  145  67.3         2.0\n4  2019  17300     1998  145  49.6         1.0",
      "text/html": "<div>\n<style scoped>\n    .dataframe tbody tr th:only-of-type {\n        vertical-align: middle;\n    }\n\n    .dataframe tbody tr th {\n        vertical-align: top;\n    }\n\n    .dataframe thead th {\n        text-align: right;\n    }\n</style>\n<table border=\"1\" class=\"dataframe\">\n  <thead>\n    <tr style=\"text-align: right;\">\n      <th></th>\n      <th>year</th>\n      <th>price</th>\n      <th>mileage</th>\n      <th>tax</th>\n      <th>mpg</th>\n      <th>engineSize</th>\n    </tr>\n  </thead>\n  <tbody>\n    <tr>\n      <th>0</th>\n      <td>2017</td>\n      <td>12500</td>\n      <td>15735</td>\n      <td>150</td>\n      <td>55.4</td>\n      <td>1.4</td>\n    </tr>\n    <tr>\n      <th>1</th>\n      <td>2016</td>\n      <td>16500</td>\n      <td>36203</td>\n      <td>20</td>\n      <td>64.2</td>\n      <td>2.0</td>\n    </tr>\n    <tr>\n      <th>2</th>\n      <td>2016</td>\n      <td>11000</td>\n      <td>29946</td>\n      <td>30</td>\n      <td>55.4</td>\n      <td>1.4</td>\n    </tr>\n    <tr>\n      <th>3</th>\n      <td>2017</td>\n      <td>16800</td>\n      <td>25952</td>\n      <td>145</td>\n      <td>67.3</td>\n      <td>2.0</td>\n    </tr>\n    <tr>\n      <th>4</th>\n      <td>2019</td>\n      <td>17300</td>\n      <td>1998</td>\n      <td>145</td>\n      <td>49.6</td>\n      <td>1.0</td>\n    </tr>\n  </tbody>\n</table>\n</div>"
     },
     "execution_count": 7,
     "metadata": {},
     "output_type": "execute_result"
    }
   ],
   "source": [
    "df = pd.read_csv('archive/audi.csv')\n",
    "df = df.drop(['model', 'transmission', 'fuelType'], axis=1)\n",
    "df.head()"
   ],
   "metadata": {
    "collapsed": false,
    "ExecuteTime": {
     "end_time": "2024-03-23T13:09:01.345811Z",
     "start_time": "2024-03-23T13:09:01.324841Z"
    }
   },
   "id": "26af3afa8bd19e57",
   "execution_count": 7
  },
  {
   "cell_type": "code",
   "outputs": [],
   "source": [
    "x = df.drop(['price'], axis=1)\n",
    "y = df['price']\n",
    "\n",
    "x_train, x_test, y_train, y_test = train_test_split(x, y, test_size=0.2, random_state=42)"
   ],
   "metadata": {
    "collapsed": false,
    "ExecuteTime": {
     "end_time": "2024-03-23T13:09:02.897567Z",
     "start_time": "2024-03-23T13:09:02.888055Z"
    }
   },
   "id": "6a2b6a8279e1292",
   "execution_count": 8
  },
  {
   "cell_type": "code",
   "outputs": [
    {
     "data": {
      "text/plain": "0.8957738817911829"
     },
     "execution_count": 9,
     "metadata": {},
     "output_type": "execute_result"
    }
   ],
   "source": [
    "DT = DecisionTreeClassifier(max_depth=100, max_features=3, random_state=42)\n",
    "DT.fit(x_train, y_train)\n",
    "y_pred = DT.predict(x_test)\n",
    "r2_score(y_test, y_pred)"
   ],
   "metadata": {
    "collapsed": false,
    "ExecuteTime": {
     "end_time": "2024-03-23T13:09:04.344958Z",
     "start_time": "2024-03-23T13:09:03.741024Z"
    }
   },
   "id": "f1073c71b0055711",
   "execution_count": 9
  },
  {
   "cell_type": "markdown",
   "source": [],
   "metadata": {
    "collapsed": false
   },
   "id": "ea66d71c8f959a17"
  },
  {
   "cell_type": "code",
   "outputs": [
    {
     "data": {
      "text/plain": "             model  year  price transmission  mileage fuelType    tax   mpg  \\\n13453   Combo Life  2019  14457       Manual     1686   Petrol  145.0  42.2   \n1066         Focus  2019  15300       Manual     6541   Petrol    0.0   0.0   \n8161          Polo  2016   9401       Manual    43933   Petrol   20.0  60.1   \n9129          Polo  2017  11690       Manual    11482   Petrol  150.0  60.1   \n3067           I10  2016   6999       Manual    17641   Petrol   20.0  60.1   \n...            ...   ...    ...          ...      ...      ...    ...   ...   \n11976      E Class  2018  23480    Automatic    13520   Diesel  145.0  61.4   \n5440            Q3  2016  15441       Manual    40600   Diesel  125.0  56.5   \n5960          Kuga  2017  14795       Manual    42917   Diesel  125.0  60.1   \n9470       Mokka X  2017  10995       Manual    18987   Petrol  150.0  47.1   \n1541         Yaris  2019  11995       Manual        5   Petrol  145.0  47.9   \n\n       engineSize  \n13453         1.2  \n1066          1.0  \n8161          1.2  \n9129          1.2  \n3067          1.0  \n...           ...  \n11976         2.0  \n5440          2.0  \n5960          2.0  \n9470          1.4  \n1541          1.5  \n\n[10000 rows x 9 columns]",
      "text/html": "<div>\n<style scoped>\n    .dataframe tbody tr th:only-of-type {\n        vertical-align: middle;\n    }\n\n    .dataframe tbody tr th {\n        vertical-align: top;\n    }\n\n    .dataframe thead th {\n        text-align: right;\n    }\n</style>\n<table border=\"1\" class=\"dataframe\">\n  <thead>\n    <tr style=\"text-align: right;\">\n      <th></th>\n      <th>model</th>\n      <th>year</th>\n      <th>price</th>\n      <th>transmission</th>\n      <th>mileage</th>\n      <th>fuelType</th>\n      <th>tax</th>\n      <th>mpg</th>\n      <th>engineSize</th>\n    </tr>\n  </thead>\n  <tbody>\n    <tr>\n      <th>13453</th>\n      <td>Combo Life</td>\n      <td>2019</td>\n      <td>14457</td>\n      <td>Manual</td>\n      <td>1686</td>\n      <td>Petrol</td>\n      <td>145.0</td>\n      <td>42.2</td>\n      <td>1.2</td>\n    </tr>\n    <tr>\n      <th>1066</th>\n      <td>Focus</td>\n      <td>2019</td>\n      <td>15300</td>\n      <td>Manual</td>\n      <td>6541</td>\n      <td>Petrol</td>\n      <td>0.0</td>\n      <td>0.0</td>\n      <td>1.0</td>\n    </tr>\n    <tr>\n      <th>8161</th>\n      <td>Polo</td>\n      <td>2016</td>\n      <td>9401</td>\n      <td>Manual</td>\n      <td>43933</td>\n      <td>Petrol</td>\n      <td>20.0</td>\n      <td>60.1</td>\n      <td>1.2</td>\n    </tr>\n    <tr>\n      <th>9129</th>\n      <td>Polo</td>\n      <td>2017</td>\n      <td>11690</td>\n      <td>Manual</td>\n      <td>11482</td>\n      <td>Petrol</td>\n      <td>150.0</td>\n      <td>60.1</td>\n      <td>1.2</td>\n    </tr>\n    <tr>\n      <th>3067</th>\n      <td>I10</td>\n      <td>2016</td>\n      <td>6999</td>\n      <td>Manual</td>\n      <td>17641</td>\n      <td>Petrol</td>\n      <td>20.0</td>\n      <td>60.1</td>\n      <td>1.0</td>\n    </tr>\n    <tr>\n      <th>...</th>\n      <td>...</td>\n      <td>...</td>\n      <td>...</td>\n      <td>...</td>\n      <td>...</td>\n      <td>...</td>\n      <td>...</td>\n      <td>...</td>\n      <td>...</td>\n    </tr>\n    <tr>\n      <th>11976</th>\n      <td>E Class</td>\n      <td>2018</td>\n      <td>23480</td>\n      <td>Automatic</td>\n      <td>13520</td>\n      <td>Diesel</td>\n      <td>145.0</td>\n      <td>61.4</td>\n      <td>2.0</td>\n    </tr>\n    <tr>\n      <th>5440</th>\n      <td>Q3</td>\n      <td>2016</td>\n      <td>15441</td>\n      <td>Manual</td>\n      <td>40600</td>\n      <td>Diesel</td>\n      <td>125.0</td>\n      <td>56.5</td>\n      <td>2.0</td>\n    </tr>\n    <tr>\n      <th>5960</th>\n      <td>Kuga</td>\n      <td>2017</td>\n      <td>14795</td>\n      <td>Manual</td>\n      <td>42917</td>\n      <td>Diesel</td>\n      <td>125.0</td>\n      <td>60.1</td>\n      <td>2.0</td>\n    </tr>\n    <tr>\n      <th>9470</th>\n      <td>Mokka X</td>\n      <td>2017</td>\n      <td>10995</td>\n      <td>Manual</td>\n      <td>18987</td>\n      <td>Petrol</td>\n      <td>150.0</td>\n      <td>47.1</td>\n      <td>1.4</td>\n    </tr>\n    <tr>\n      <th>1541</th>\n      <td>Yaris</td>\n      <td>2019</td>\n      <td>11995</td>\n      <td>Manual</td>\n      <td>5</td>\n      <td>Petrol</td>\n      <td>145.0</td>\n      <td>47.9</td>\n      <td>1.5</td>\n    </tr>\n  </tbody>\n</table>\n<p>10000 rows × 9 columns</p>\n</div>"
     },
     "execution_count": 10,
     "metadata": {},
     "output_type": "execute_result"
    }
   ],
   "source": [
    "df1 = pd.read_csv('archive/audi.csv')\n",
    "df1 = pd.concat([df1, pd.read_csv('archive/bmw.csv')])\n",
    "df1 = pd.concat([df1, pd.read_csv('archive/cclass.csv')])\n",
    "df1 = pd.concat([df1, pd.read_csv('archive/focus.csv')])\n",
    "df1 = pd.concat([df1, pd.read_csv('archive/ford.csv')])\n",
    "df1 = pd.concat([df1, pd.read_csv('archive/hyundi.csv').rename(columns={'tax(£)' : 'tax'})])\n",
    "df1 = pd.concat([df1, pd.read_csv('archive/merc.csv')])\n",
    "df1 = pd.concat([df1, pd.read_csv('archive/skoda.csv')])\n",
    "df1 = pd.concat([df1, pd.read_csv('archive/toyota.csv')])\n",
    "df1 = pd.concat([df1, pd.read_csv('archive/vauxhall.csv')])\n",
    "df1 = pd.concat([df1, pd.read_csv('archive/vw.csv')])\n",
    "df1.fillna(0, inplace=True)\n",
    "df1 = df1.sample(n=10000)\n",
    "df1"
   ],
   "metadata": {
    "collapsed": false,
    "ExecuteTime": {
     "end_time": "2024-03-23T13:09:05.182442Z",
     "start_time": "2024-03-23T13:09:05.083911Z"
    }
   },
   "id": "38af868cb81dbf73",
   "execution_count": 10
  },
  {
   "cell_type": "code",
   "outputs": [],
   "source": [
    "x = df1.drop(['price'], axis=1)\n",
    "y = df1['price']\n",
    "\n",
    "x_train, x_test, y_train, y_test = train_test_split(x, y, test_size=0.2, random_state=42)\n",
    "\n",
    "x_train = pd.get_dummies(x_train)\n",
    "x_test = pd.get_dummies(x_test)"
   ],
   "metadata": {
    "collapsed": false,
    "ExecuteTime": {
     "end_time": "2024-03-23T13:09:06.679052Z",
     "start_time": "2024-03-23T13:09:06.664659Z"
    }
   },
   "id": "355170b910ae9be0",
   "execution_count": 11
  },
  {
   "cell_type": "code",
   "outputs": [
    {
     "name": "stderr",
     "output_type": "stream",
     "text": [
      "/Users/timofejsosnin/anaconda3/envs/classical-ml/lib/python3.11/site-packages/sklearn/model_selection/_split.py:737: UserWarning: The least populated class in y has only 1 members, which is less than n_splits=5.\n",
      "  warnings.warn(\n"
     ]
    },
    {
     "name": "stdout",
     "output_type": "stream",
     "text": [
      "DT {'min_samples_split': 2, 'max_features': 100, 'max_depth': 40, 'criterion': 'gini'} 0.023125\n"
     ]
    },
    {
     "name": "stderr",
     "output_type": "stream",
     "text": [
      "/Users/timofejsosnin/anaconda3/envs/classical-ml/lib/python3.11/site-packages/sklearn/model_selection/_split.py:737: UserWarning: The least populated class in y has only 1 members, which is less than n_splits=5.\n",
      "  warnings.warn(\n"
     ]
    },
    {
     "name": "stdout",
     "output_type": "stream",
     "text": [
      "RF {'n_estimators': 50, 'max_depth': 150, 'criterion': 'gini'} 0.025\n"
     ]
    }
   ],
   "source": [
    "estimators = {\n",
    "    'DT': DecisionTreeClassifier(),\n",
    "    'RF': RandomForestClassifier()\n",
    "}\n",
    "\n",
    "params = {\n",
    "    'DT': {\n",
    "        'max_depth': [10, 20, 30, 40, 50],\n",
    "        'max_features': [10, 100, 200],\n",
    "        'min_samples_split': [2, 5, 10, 20],\n",
    "        'criterion': ['gini', 'entropy']\n",
    "}, \n",
    "    'RF': {\n",
    "        'n_estimators': [10, 50],\n",
    "        'criterion': ['gini', 'entropy'],\n",
    "        'max_depth': [5, 100, 150]\n",
    "}}\n",
    "\n",
    "for name, model in estimators.items():\n",
    "    m = RandomizedSearchCV(model, params[name], random_state=42)\n",
    "    m.fit(x_train, y_train)\n",
    "    # m.predict(x_test)\n",
    "    print(name, m.best_params_, m.best_score_)\n",
    "    # print('r2', r2_score(y_test, y_pred))"
   ],
   "metadata": {
    "collapsed": false,
    "ExecuteTime": {
     "end_time": "2024-03-23T12:31:16.413448Z",
     "start_time": "2024-03-23T12:28:34.728244Z"
    }
   },
   "id": "52ae54466f924653",
   "execution_count": 5
  }
 ],
 "metadata": {
  "kernelspec": {
   "display_name": "Python 3",
   "language": "python",
   "name": "python3"
  },
  "language_info": {
   "codemirror_mode": {
    "name": "ipython",
    "version": 2
   },
   "file_extension": ".py",
   "mimetype": "text/x-python",
   "name": "python",
   "nbconvert_exporter": "python",
   "pygments_lexer": "ipython2",
   "version": "2.7.6"
  }
 },
 "nbformat": 4,
 "nbformat_minor": 5
}
